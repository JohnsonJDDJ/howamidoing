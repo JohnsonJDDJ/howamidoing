{
 "cells": [
  {
   "attachments": {},
   "cell_type": "markdown",
   "metadata": {},
   "source": [
    "# Howamidoing Demo\n",
    "\n",
    "How Am I Doing? A tool to calculate your final letter grade of a course that takes into the effect of curved grading policies, assignment drops, clobber policies, etc.\n",
    "\n",
    "The hierarchy of the objects in this library can be viewed as:\n",
    "\n",
    "- `Course`: the course, e.g. **MATH 100**.\n",
    "  - `CurvedSingleAssignment`: an assignment that is graded on curved basis, e.g. **Midterm 1**.\n",
    "  - `UncurvedSingleAssignment`: an assignment that is graded on absolute scale, e.g. **Class Participation**.\n",
    "  - `CurvedAssignmentGroup`: a group of assignment that is all graded on a curved basis and is aggregated when calculating the score towards the final grade. E.g., **Projects**.\n",
    "    - `Assignment`: **Project 1**.\n",
    "    - ...\n",
    "  - `UncurvedAssignmentGroup`: a group of assignment that is all graded on the absolute scale and is aggregated when calculating the score towards the final grade. E.g., **Homeworks**.\n",
    "    - `Assignment`: **Homework 1**.\n",
    "    - ...\n",
    "  - ...\n",
    "\n",
    "# Comprehensive Example\n",
    "\n",
    "## Course Policy\n",
    "\n",
    "| Component | Weight |\n",
    "| --------- | ------ |\n",
    "| Participation | 5% |\n",
    "| Homeworks | 15% |\n",
    "| Projects | 20% |\n",
    "| Midterm 1 | 15% |\n",
    "| Midterm 2 | 15% |\n",
    "| Final | 30% |\n",
    "\n",
    "- Participation: Uncurved.\n",
    "- Homeworks: 10 in total, all uncurved. Allow dropping 2 lowest score.\n",
    "- Projects: 4 in total, all curved. Allow dropping 1 lowest score (based on zscore).\n",
    "- Midterm 1: Curved.\n",
    "- Midterm 2: Curved.\n",
    "- Final: Curved.\n",
    "\n",
    "**Clobber Policy**: Your grade on the final can be clobbered for either midterms, but not both. \n",
    "\n",
    "## Your Scores\n",
    "\n",
    "- Participation: 100/100\n",
    "- Homeworks: [20/20, 19/20, 28/30, 23/25, 12/15, 20/20, 20/20, 0/30, 30/30, 19/21]\n",
    "- Projects:\n",
    "  - Project 1: 81/100. Class mean = 76, class standard deviation = 12.4\n",
    "  - Project 2: 68/100. Class mean = 70, class standard deviation = 23.2\n",
    "  - Project 3: 94/100. Class mean = 90, class standard deviation = 11.2\n",
    "  - Project 1: 85/100. Class mean = 91, class standard deviation = 14.8\n",
    "- Midterm 1: 79/130. Class mean = 84.3, class standard deviation = 24.6\n",
    "- Midterm 2: 118/187. Class mean = 106, class standard deviation = 28.3\n",
    "- Final: 186/300. Class mean = 174, class standard deviation = 26.5\n",
    "\n",
    "Here is the example of how to calculate this complicated grades in `howamidoing`."
   ]
  },
  {
   "cell_type": "code",
   "execution_count": 1,
   "metadata": {},
   "outputs": [],
   "source": [
    "from howamidoing import *\n",
    "\n",
    "math100 = Course(name=\"MATH100\")\n",
    "participation = math100.add_uncurved_single(0.05, 100)\n",
    "hws = math100.add_uncurved_group(0.15, num_drops=2)\n",
    "projects = math100.add_curved_group(0.2, num_drops=1)\n",
    "mt1 = math100.add_curved_single(0.15, 79, upper=130, mu=84.3, sigma=24.6)\n",
    "mt2 = math100.add_curved_single(0.15, 118, upper=187, mu=106, sigma=28.3)\n",
    "final = math100.add_curved_single(0.3, 186, upper=300, mu=174, sigma=26.5)"
   ]
  },
  {
   "cell_type": "code",
   "execution_count": 2,
   "metadata": {},
   "outputs": [
    {
     "data": {
      "text/plain": [
       "{'score': 0.9635119047619047, 'stats': {}, 'drop_applied': True}"
      ]
     },
     "execution_count": 2,
     "metadata": {},
     "output_type": "execute_result"
    }
   ],
   "source": [
    "hws.add_assignment(20, upper=20) # hw1\n",
    "hws.add_assignment(19, upper=20) # hw2\n",
    "hws.add_assignment(28, upper=30) # hw3\n",
    "hws.add_assignment(23, upper=25) # hw4\n",
    "hws.add_assignment(12, upper=15) # hw5\n",
    "hws.add_assignment(20, upper=20) # hw6\n",
    "hws.add_assignment(20, upper=20) # hw7\n",
    "hws.add_assignment( 0, upper=20) # hw8\n",
    "hws.add_assignment(30, upper=30) # hw9\n",
    "hws.add_assignment(19, upper=21) # hw10\n",
    "\n",
    "hws.get_detail()"
   ]
  },
  {
   "cell_type": "code",
   "execution_count": 3,
   "metadata": {},
   "outputs": [
    {
     "data": {
      "text/plain": [
       "{'score': 0.81,\n",
       " 'stats': {'zscore': 0.17532948452466496,\n",
       "  'mu': 0.7866666666666666,\n",
       "  'sigma': 0.13308276925921692},\n",
       " 'drop_applied': True}"
      ]
     },
     "execution_count": 3,
     "metadata": {},
     "output_type": "execute_result"
    }
   ],
   "source": [
    "projects.add_assignment(81, mu=76, sigma=12.4) # proj1\n",
    "projects.add_assignment(68, mu=70, sigma=23.2) # proj2\n",
    "projects.add_assignment(94, mu=90, sigma=11.2) # proj3\n",
    "projects.add_assignment(85, mu=91, sigma=14.8) # proj4\n",
    "\n",
    "projects.get_detail()"
   ]
  },
  {
   "cell_type": "code",
   "execution_count": 4,
   "metadata": {},
   "outputs": [
    {
     "name": "stdout",
     "output_type": "stream",
     "text": [
      "{'score': 0.7283330382852442, 'stats': {'zscore': 0.2401665863037439, 'mu': 0.7081560877847642, 'sigma': 0.08401231333222071}, 'curved': True, 'is_final': True} B+\n"
     ]
    }
   ],
   "source": [
    "print(math100.get_detail(), math100.get_grade())"
   ]
  },
  {
   "cell_type": "code",
   "execution_count": 8,
   "metadata": {},
   "outputs": [
    {
     "name": "stdout",
     "output_type": "stream",
     "text": [
      "Detail: \n",
      " {'score': 0.747301833640832, 'stats': {'zscore': 0.7489774426239227, 'mu': 0.7081560877847642, 'sigma': 0.05226558722373122}, 'curved': True, 'is_final': True}\n",
      "Letter grade boundaries:\n",
      "{'A+': 0.7941253228320848, 'A': 0.7467723506669821, 'A-': 0.7282950871521101, 'B+': 0.7015883230011577, 'B': 0.6807479865172447, 'B-': 0.6641682593529623, 'C+': 0.6539862876691098, 'C': 0.6411750423038068, 'C-': 0.631023002756979, 'D+': 0.6221868467770413, 'D': 0.6166554519410183, 'D-': 0.6098553051370617, 'F': 0.0}\n",
      "Letter grade:  A\n"
     ]
    }
   ],
   "source": [
    "math100.apply_clobber(final.get_id(), targets=[mt1.get_id(), mt2.get_id()], capacity=1)\n",
    "print(\"Detail: \\n\", math100.get_detail())\n",
    "print(\"Letter grade:\", math100.get_grade(show_boundary=True))"
   ]
  },
  {
   "cell_type": "code",
   "execution_count": 7,
   "metadata": {},
   "outputs": [
    {
     "name": "stdout",
     "output_type": "stream",
     "text": [
      "Letter grade boundaries:\n",
      "{'A+': 0.7941253228320848, 'A': 0.7467723506669821, 'A-': 0.7282950871521101, 'B+': 0.7015883230011577, 'B': 0.6807479865172447, 'B-': 0.6641682593529623, 'C+': 0.6539862876691098, 'C': 0.6411750423038068, 'C-': 0.631023002756979, 'D+': 0.6221868467770413, 'D': 0.6166554519410183, 'D-': 0.6098553051370617, 'F': 0.0}\n",
      "{'score': 0.747301833640832, 'stats': {'zscore': 0.7489774426239227, 'mu': 0.7081560877847642, 'sigma': 0.05226558722373122}, 'curved': True, 'is_final': True} A\n"
     ]
    }
   ],
   "source": [
    "math100.corr = 0\n",
    "print(math100.get_detail(), math100.get_grade(show_boundary=True))"
   ]
  }
 ],
 "metadata": {
  "kernelspec": {
   "display_name": "howamidoing",
   "language": "python",
   "name": "python3"
  },
  "language_info": {
   "codemirror_mode": {
    "name": "ipython",
    "version": 3
   },
   "file_extension": ".py",
   "mimetype": "text/x-python",
   "name": "python",
   "nbconvert_exporter": "python",
   "pygments_lexer": "ipython3",
   "version": "3.11.0"
  },
  "orig_nbformat": 4,
  "vscode": {
   "interpreter": {
    "hash": "726e42a87fff4e0eef3ffa25c58763d6224ff0ee0bb1d88629cf662e5909f887"
   }
  }
 },
 "nbformat": 4,
 "nbformat_minor": 2
}
