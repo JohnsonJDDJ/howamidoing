{
 "cells": [
  {
   "attachments": {},
   "cell_type": "markdown",
   "metadata": {},
   "source": [
    "# Howamidoing Demo\n",
    "\n",
    "How Am I Doing? A tool to calculate your final letter grade of a course that takes into the effect of curved grading policies, assignment drops, clobber policies, etc.\n",
    "\n",
    "The hierarchy of the objects in this library can be viewed as:\n",
    "\n",
    "- `Course`: the course, e.g. **MATH 100**.\n",
    "  - `CurvedSingleAssignment`: an assignment that is graded on curved basis, e.g. **Midterm 1**.\n",
    "  - `UncurvedSingleAssignment`: an assignment that is graded on absolute scale, e.g. **Class Participation**.\n",
    "  - `CurvedAssignmentGroup`: a group of assignment that is all graded on a curved basis and is aggregated when calculating the score towards the final grade. E.g., **Projects**.\n",
    "    - `Assignment`: **Project 1**.\n",
    "    - ...\n",
    "  - `UncurvedAssignmentGroup`: a group of assignment that is all graded on the absolute scale and is aggregated when calculating the score towards the final grade. E.g., **Homeworks**.\n",
    "    - `Assignment`: **Homework 1**.\n",
    "    - ...\n",
    "  - ...\n",
    "\n",
    "# Comprehensive Example\n",
    "\n",
    "## Course Policy\n",
    "\n",
    "| Component | Weight |\n",
    "| --------- | ------ |\n",
    "| Participation | 5% |\n",
    "| Homeworks | 15% |\n",
    "| Projects | 20% |\n",
    "| Midterm 1 | 15% |\n",
    "| Midterm 2 | 15% |\n",
    "| Final | 30% |\n",
    "\n",
    "- Participation: Uncurved.\n",
    "- Homeworks: 10 in total, all uncurved. Allow dropping 2 lowest score.\n",
    "- Projects: 4 in total, all curved. Allow dropping 1 lowest score (based on zscore).\n",
    "- Midterm 1: Curved.\n",
    "- Midterm 2: Curved.\n",
    "- Final: Curved.\n",
    "\n",
    "**Clobber Policy**: Your grade on the final can be clobbered for either midterms, but not both. \n",
    "\n",
    "## Your Scores\n",
    "\n",
    "- Participation: 100/100\n",
    "- Homeworks: [20/20, 19/20, 28/30, 23/25, 12/15, 20/20, 20/20, 0/30, 30/30, 19/21]\n",
    "- Projects:\n",
    "  - Project 1: 81/100. Class mean = 76, class standard deviation = 12.4\n",
    "  - Project 2: 68/100. Class mean = 70, class standard deviation = 23.2\n",
    "  - Project 3: 94/100. Class mean = 90, class standard deviation = 11.2\n",
    "  - Project 1: 85/100. Class mean = 91, class standard deviation = 14.8\n",
    "- Midterm 1: 79/130. Class mean = 84.3, class standard deviation = 24.6\n",
    "- Midterm 2: 118/187. Class mean = 106, class standard deviation = 28.3\n",
    "- Final: 172/300. Class mean = 174, class standard deviation = 26.5\n",
    "\n",
    "Here is the example of how to calculate this complicated grades in `howamidoing`."
   ]
  },
  {
   "cell_type": "code",
   "execution_count": 2,
   "metadata": {},
   "outputs": [],
   "source": [
    "from howamidoing import *\n",
    "\n",
    "math100 = Course(name=\"MATH100\")\n",
    "math100.add_uncurved_single(0.05, \"Participation\")\n",
    "hws = math100.add_uncurved_group"
   ]
  },
  {
   "cell_type": "code",
   "execution_count": null,
   "metadata": {},
   "outputs": [],
   "source": []
  }
 ],
 "metadata": {
  "kernelspec": {
   "display_name": "projectAEI",
   "language": "python",
   "name": "python3"
  },
  "language_info": {
   "codemirror_mode": {
    "name": "ipython",
    "version": 3
   },
   "file_extension": ".py",
   "mimetype": "text/x-python",
   "name": "python",
   "nbconvert_exporter": "python",
   "pygments_lexer": "ipython3",
   "version": "3.9.15"
  },
  "orig_nbformat": 4,
  "vscode": {
   "interpreter": {
    "hash": "87ae4955555894f5a1de0bc5fa07253f5d7c43419c45138ed7444e7820fb06a5"
   }
  }
 },
 "nbformat": 4,
 "nbformat_minor": 2
}
